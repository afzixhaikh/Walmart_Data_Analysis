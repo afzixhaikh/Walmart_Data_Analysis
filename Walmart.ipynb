{
 "cells": [
  {
   "cell_type": "markdown",
   "id": "0cbe335a",
   "metadata": {},
   "source": [
    "Basic Statistics tasks\n",
    "\n",
    "Which store has maximum sales\n",
    "\n",
    "Which store has maximum standard deviation i.e., the sales vary a lot. Also, find out the coefficient of mean to standard deviation\n",
    "\n",
    "Which store/s has good quarterly growth rate in Q3’2012\n",
    "\n",
    "Some holidays have a negative impact on sales. Find out holidays which have higher sales than the mean sales in non-holiday season for all stores together\n",
    "\n",
    "Provide a monthly and semester view of sales in units and give insights\n",
    "\n",
    "Statistical Model\n",
    "\n",
    "For Store 1 – Build  prediction models to forecast demand\n",
    "\n",
    "Linear Regression – Utilize variables like date and restructure dates as 1 for 5 Feb 2010 (starting from the earliest date in order). Hypothesize if CPI, unemployment, and fuel price have any impact on sales.\n",
    "\n",
    "Change dates into days by creating new variable."
   ]
  },
  {
   "cell_type": "code",
   "execution_count": 188,
   "id": "e94becac",
   "metadata": {},
   "outputs": [],
   "source": [
    "import numpy as np\n",
    "import pandas as pd\n",
    "import matplotlib.pyplot as plt\n",
    "import seaborn as sns\n",
    "sns.set()"
   ]
  },
  {
   "cell_type": "code",
   "execution_count": 189,
   "id": "7354f122",
   "metadata": {},
   "outputs": [],
   "source": [
    "data = pd.read_csv('Walmart_Store_sales.csv')"
   ]
  },
  {
   "cell_type": "code",
   "execution_count": 190,
   "id": "a7401a53",
   "metadata": {},
   "outputs": [
    {
     "name": "stdout",
     "output_type": "stream",
     "text": [
      "<class 'pandas.core.frame.DataFrame'>\n",
      "RangeIndex: 6435 entries, 0 to 6434\n",
      "Data columns (total 8 columns):\n",
      " #   Column        Non-Null Count  Dtype  \n",
      "---  ------        --------------  -----  \n",
      " 0   Store         6435 non-null   int64  \n",
      " 1   Date          6435 non-null   object \n",
      " 2   Weekly_Sales  6435 non-null   float64\n",
      " 3   Holiday_Flag  6435 non-null   int64  \n",
      " 4   Temperature   6435 non-null   float64\n",
      " 5   Fuel_Price    6435 non-null   float64\n",
      " 6   CPI           6435 non-null   float64\n",
      " 7   Unemployment  6435 non-null   float64\n",
      "dtypes: float64(5), int64(2), object(1)\n",
      "memory usage: 402.3+ KB\n"
     ]
    }
   ],
   "source": [
    "data.info()"
   ]
  },
  {
   "cell_type": "code",
   "execution_count": 191,
   "id": "61f7e2f8",
   "metadata": {
    "scrolled": true
   },
   "outputs": [
    {
     "data": {
      "text/html": [
       "<div>\n",
       "<style scoped>\n",
       "    .dataframe tbody tr th:only-of-type {\n",
       "        vertical-align: middle;\n",
       "    }\n",
       "\n",
       "    .dataframe tbody tr th {\n",
       "        vertical-align: top;\n",
       "    }\n",
       "\n",
       "    .dataframe thead th {\n",
       "        text-align: right;\n",
       "    }\n",
       "</style>\n",
       "<table border=\"1\" class=\"dataframe\">\n",
       "  <thead>\n",
       "    <tr style=\"text-align: right;\">\n",
       "      <th></th>\n",
       "      <th>Store</th>\n",
       "      <th>Date</th>\n",
       "      <th>Weekly_Sales</th>\n",
       "      <th>Holiday_Flag</th>\n",
       "      <th>Temperature</th>\n",
       "      <th>Fuel_Price</th>\n",
       "      <th>CPI</th>\n",
       "      <th>Unemployment</th>\n",
       "    </tr>\n",
       "  </thead>\n",
       "  <tbody>\n",
       "    <tr>\n",
       "      <th>0</th>\n",
       "      <td>1</td>\n",
       "      <td>05-02-2010</td>\n",
       "      <td>1643690.90</td>\n",
       "      <td>0</td>\n",
       "      <td>42.31</td>\n",
       "      <td>2.572</td>\n",
       "      <td>211.096358</td>\n",
       "      <td>8.106</td>\n",
       "    </tr>\n",
       "    <tr>\n",
       "      <th>1</th>\n",
       "      <td>1</td>\n",
       "      <td>12-02-2010</td>\n",
       "      <td>1641957.44</td>\n",
       "      <td>1</td>\n",
       "      <td>38.51</td>\n",
       "      <td>2.548</td>\n",
       "      <td>211.242170</td>\n",
       "      <td>8.106</td>\n",
       "    </tr>\n",
       "    <tr>\n",
       "      <th>2</th>\n",
       "      <td>1</td>\n",
       "      <td>19-02-2010</td>\n",
       "      <td>1611968.17</td>\n",
       "      <td>0</td>\n",
       "      <td>39.93</td>\n",
       "      <td>2.514</td>\n",
       "      <td>211.289143</td>\n",
       "      <td>8.106</td>\n",
       "    </tr>\n",
       "    <tr>\n",
       "      <th>3</th>\n",
       "      <td>1</td>\n",
       "      <td>26-02-2010</td>\n",
       "      <td>1409727.59</td>\n",
       "      <td>0</td>\n",
       "      <td>46.63</td>\n",
       "      <td>2.561</td>\n",
       "      <td>211.319643</td>\n",
       "      <td>8.106</td>\n",
       "    </tr>\n",
       "    <tr>\n",
       "      <th>4</th>\n",
       "      <td>1</td>\n",
       "      <td>05-03-2010</td>\n",
       "      <td>1554806.68</td>\n",
       "      <td>0</td>\n",
       "      <td>46.50</td>\n",
       "      <td>2.625</td>\n",
       "      <td>211.350143</td>\n",
       "      <td>8.106</td>\n",
       "    </tr>\n",
       "  </tbody>\n",
       "</table>\n",
       "</div>"
      ],
      "text/plain": [
       "   Store        Date  Weekly_Sales  Holiday_Flag  Temperature  Fuel_Price  \\\n",
       "0      1  05-02-2010    1643690.90             0        42.31       2.572   \n",
       "1      1  12-02-2010    1641957.44             1        38.51       2.548   \n",
       "2      1  19-02-2010    1611968.17             0        39.93       2.514   \n",
       "3      1  26-02-2010    1409727.59             0        46.63       2.561   \n",
       "4      1  05-03-2010    1554806.68             0        46.50       2.625   \n",
       "\n",
       "          CPI  Unemployment  \n",
       "0  211.096358         8.106  \n",
       "1  211.242170         8.106  \n",
       "2  211.289143         8.106  \n",
       "3  211.319643         8.106  \n",
       "4  211.350143         8.106  "
      ]
     },
     "execution_count": 191,
     "metadata": {},
     "output_type": "execute_result"
    }
   ],
   "source": [
    "data.head()"
   ]
  },
  {
   "cell_type": "markdown",
   "id": "46f84970",
   "metadata": {},
   "source": [
    "## Task 1"
   ]
  },
  {
   "cell_type": "code",
   "execution_count": 192,
   "id": "c1e15263",
   "metadata": {},
   "outputs": [
    {
     "data": {
      "text/plain": [
       "Store\n",
       "20    3.013978e+08\n",
       "4     2.995440e+08\n",
       "14    2.889999e+08\n",
       "13    2.865177e+08\n",
       "2     2.753824e+08\n",
       "Name: Weekly_Sales, dtype: float64"
      ]
     },
     "execution_count": 192,
     "metadata": {},
     "output_type": "execute_result"
    }
   ],
   "source": [
    "data.groupby('Store').Weekly_Sales.sum().sort_values(ascending=False)[:5]"
   ]
  },
  {
   "cell_type": "markdown",
   "id": "bec187d2",
   "metadata": {},
   "source": [
    "Store no 20 has the maximum sales. "
   ]
  },
  {
   "cell_type": "markdown",
   "id": "5709ad22",
   "metadata": {},
   "source": [
    "## Task 2"
   ]
  },
  {
   "cell_type": "code",
   "execution_count": 193,
   "id": "8ed2d2bc",
   "metadata": {
    "scrolled": true
   },
   "outputs": [
    {
     "data": {
      "text/plain": [
       "Store\n",
       "14    317569.949476\n",
       "10    302262.062504\n",
       "20    275900.562742\n",
       "4     266201.442297\n",
       "13    265506.995776\n",
       "Name: Weekly_Sales, dtype: float64"
      ]
     },
     "execution_count": 193,
     "metadata": {},
     "output_type": "execute_result"
    }
   ],
   "source": [
    "data.groupby(['Store']).Weekly_Sales.std().sort_values(ascending=False)[:5]"
   ]
  },
  {
   "cell_type": "markdown",
   "id": "44ac35af",
   "metadata": {},
   "source": [
    "Store no 14 has the maximum deviation."
   ]
  },
  {
   "cell_type": "code",
   "execution_count": 194,
   "id": "cba2ac03",
   "metadata": {},
   "outputs": [
    {
     "data": {
      "text/plain": [
       "Store\n",
       "1     9.970873\n",
       "2     8.102160\n",
       "3     8.694034\n",
       "4     7.868902\n",
       "5     8.426840\n",
       "6     7.362531\n",
       "7     5.068303\n",
       "8     8.550456\n",
       "9     7.880502\n",
       "10    6.284032\n",
       "Name: Weekly_Sales, dtype: float64"
      ]
     },
     "execution_count": 194,
     "metadata": {},
     "output_type": "execute_result"
    }
   ],
   "source": [
    "(data.groupby('Store')['Weekly_Sales'].mean()/data.groupby(['Store']).Weekly_Sales.std())[:10]"
   ]
  },
  {
   "cell_type": "code",
   "execution_count": 195,
   "id": "2c829b29",
   "metadata": {},
   "outputs": [
    {
     "data": {
      "text/plain": [
       "1.8551148077324786"
      ]
     },
     "execution_count": 195,
     "metadata": {},
     "output_type": "execute_result"
    }
   ],
   "source": [
    "data['Weekly_Sales'].mean()/data['Weekly_Sales'].std()"
   ]
  },
  {
   "cell_type": "markdown",
   "id": "db095711",
   "metadata": {},
   "source": [
    "I wasnt sure if the problem statement wanted the coeffiecient of variation for per store or they wanted it for the complete dataset, so i did both."
   ]
  },
  {
   "cell_type": "markdown",
   "id": "d1c4bee3",
   "metadata": {},
   "source": [
    "## Task 3"
   ]
  },
  {
   "cell_type": "code",
   "execution_count": 196,
   "id": "b204ee99",
   "metadata": {},
   "outputs": [],
   "source": [
    "data['Date'] = pd.to_datetime(data['Date'])"
   ]
  },
  {
   "cell_type": "code",
   "execution_count": 197,
   "id": "cfd6b767",
   "metadata": {},
   "outputs": [],
   "source": [
    "start_qt = data[(data['Date'] < pd.to_datetime('2012-07-01'))]"
   ]
  },
  {
   "cell_type": "code",
   "execution_count": 198,
   "id": "41063e8c",
   "metadata": {},
   "outputs": [],
   "source": [
    "end_qt = data[data['Date'] < pd.to_datetime('2012-10-01')]"
   ]
  },
  {
   "cell_type": "code",
   "execution_count": 199,
   "id": "8eff7368",
   "metadata": {},
   "outputs": [
    {
     "data": {
      "text/plain": [
       "Store\n",
       "20    2.884285e+08\n",
       "4     2.864684e+08\n",
       "14    2.783523e+08\n",
       "13    2.742744e+08\n",
       "2     2.639117e+08\n",
       "10    2.605333e+08\n",
       "27    2.438260e+08\n",
       "6     2.147024e+08\n",
       "1     2.128220e+08\n",
       "19    1.982876e+08\n",
       "Name: Weekly_Sales, dtype: float64"
      ]
     },
     "execution_count": 199,
     "metadata": {},
     "output_type": "execute_result"
    }
   ],
   "source": [
    "(end_qt.groupby('Store').Weekly_Sales.sum() - (start_qt.groupby('Store').Weekly_Sales.sum())/start_qt.groupby('Store').Weekly_Sales.sum()).sort_values(ascending=False)[:10]"
   ]
  },
  {
   "cell_type": "markdown",
   "id": "85ad9483",
   "metadata": {},
   "source": [
    "These are the top 10 stores with their growth rates in descending order, Store number 20 had the best growth rate in the 3rd Quarter of 2012.\n",
    "\n",
    "Growth rate formula taken from: https://www.profitwell.com/recur/all/growth-rate"
   ]
  },
  {
   "cell_type": "markdown",
   "id": "9e5ce2a1",
   "metadata": {},
   "source": [
    "## Task 4"
   ]
  },
  {
   "cell_type": "code",
   "execution_count": 200,
   "id": "61cfcb81",
   "metadata": {},
   "outputs": [
    {
     "data": {
      "text/html": [
       "<div>\n",
       "<style scoped>\n",
       "    .dataframe tbody tr th:only-of-type {\n",
       "        vertical-align: middle;\n",
       "    }\n",
       "\n",
       "    .dataframe tbody tr th {\n",
       "        vertical-align: top;\n",
       "    }\n",
       "\n",
       "    .dataframe thead th {\n",
       "        text-align: right;\n",
       "    }\n",
       "</style>\n",
       "<table border=\"1\" class=\"dataframe\">\n",
       "  <thead>\n",
       "    <tr style=\"text-align: right;\">\n",
       "      <th></th>\n",
       "      <th>Store</th>\n",
       "      <th>Date</th>\n",
       "      <th>Weekly_Sales</th>\n",
       "      <th>Holiday_Flag</th>\n",
       "      <th>Temperature</th>\n",
       "      <th>Fuel_Price</th>\n",
       "      <th>CPI</th>\n",
       "      <th>Unemployment</th>\n",
       "    </tr>\n",
       "  </thead>\n",
       "  <tbody>\n",
       "    <tr>\n",
       "      <th>2530</th>\n",
       "      <td>18</td>\n",
       "      <td>2011-12-30</td>\n",
       "      <td>1010562.49</td>\n",
       "      <td>1</td>\n",
       "      <td>32.36</td>\n",
       "      <td>3.402</td>\n",
       "      <td>136.643258</td>\n",
       "      <td>8.471</td>\n",
       "    </tr>\n",
       "    <tr>\n",
       "      <th>707</th>\n",
       "      <td>5</td>\n",
       "      <td>2012-07-09</td>\n",
       "      <td>350648.91</td>\n",
       "      <td>1</td>\n",
       "      <td>86.30</td>\n",
       "      <td>3.730</td>\n",
       "      <td>223.029880</td>\n",
       "      <td>5.603</td>\n",
       "    </tr>\n",
       "    <tr>\n",
       "      <th>3199</th>\n",
       "      <td>23</td>\n",
       "      <td>2011-11-02</td>\n",
       "      <td>1249786.40</td>\n",
       "      <td>1</td>\n",
       "      <td>21.52</td>\n",
       "      <td>3.255</td>\n",
       "      <td>133.260871</td>\n",
       "      <td>5.114</td>\n",
       "    </tr>\n",
       "    <tr>\n",
       "      <th>534</th>\n",
       "      <td>4</td>\n",
       "      <td>2012-10-02</td>\n",
       "      <td>2374660.64</td>\n",
       "      <td>1</td>\n",
       "      <td>33.00</td>\n",
       "      <td>3.411</td>\n",
       "      <td>130.384903</td>\n",
       "      <td>4.607</td>\n",
       "    </tr>\n",
       "    <tr>\n",
       "      <th>5195</th>\n",
       "      <td>37</td>\n",
       "      <td>2010-12-31</td>\n",
       "      <td>460331.70</td>\n",
       "      <td>1</td>\n",
       "      <td>52.88</td>\n",
       "      <td>2.943</td>\n",
       "      <td>210.182398</td>\n",
       "      <td>8.476</td>\n",
       "    </tr>\n",
       "  </tbody>\n",
       "</table>\n",
       "</div>"
      ],
      "text/plain": [
       "      Store       Date  Weekly_Sales  Holiday_Flag  Temperature  Fuel_Price  \\\n",
       "2530     18 2011-12-30    1010562.49             1        32.36       3.402   \n",
       "707       5 2012-07-09     350648.91             1        86.30       3.730   \n",
       "3199     23 2011-11-02    1249786.40             1        21.52       3.255   \n",
       "534       4 2012-10-02    2374660.64             1        33.00       3.411   \n",
       "5195     37 2010-12-31     460331.70             1        52.88       2.943   \n",
       "\n",
       "             CPI  Unemployment  \n",
       "2530  136.643258         8.471  \n",
       "707   223.029880         5.603  \n",
       "3199  133.260871         5.114  \n",
       "534   130.384903         4.607  \n",
       "5195  210.182398         8.476  "
      ]
     },
     "execution_count": 200,
     "metadata": {},
     "output_type": "execute_result"
    }
   ],
   "source": [
    "holidays = data[data['Holiday_Flag'] == 1]\n",
    "holidays.sample(5)"
   ]
  },
  {
   "cell_type": "code",
   "execution_count": 201,
   "id": "ae4ab9b3",
   "metadata": {},
   "outputs": [],
   "source": [
    "Super_bowl = [pd.to_datetime('12-02-2010'), pd.to_datetime('11-02-2011'), pd.to_datetime('10-02-2012'), pd.to_datetime('08-02-2013')]\n",
    "Christmas = [pd.to_datetime('31-12-2010'), pd.to_datetime('30-12-2011'), pd.to_datetime('28-12-2012'), pd.to_datetime('27-12-2013')]\n",
    "Labour_day = [pd.to_datetime('10-09-2010'), pd.to_datetime('09-09-2011'), pd.to_datetime('07-09-2012'), pd.to_datetime('06-09-2013')]\n",
    "ThanksGiving = [pd.to_datetime('26-11-2010'), pd.to_datetime('25-11-2011'), pd.to_datetime('23-11-2012'), pd.to_datetime('29-11-2013')]\n"
   ]
  },
  {
   "cell_type": "code",
   "execution_count": 202,
   "id": "494e558c",
   "metadata": {},
   "outputs": [
    {
     "name": "stdout",
     "output_type": "stream",
     "text": [
      "Super bowl mean: 1079127.9877037033\n",
      "Labour Day mean: 1042427.2939259257\n",
      "ThanksGivning mean: 1471273.427777778\n",
      "Christmas mean: 960833.1115555551\n",
      "Non holiday mean:1041256.3802088564\n"
     ]
    }
   ],
   "source": [
    "Super_bowl_mean = holidays['Weekly_Sales'][holidays['Date'].apply(lambda x: x in Super_bowl)].mean()\n",
    "Labour_day_mean = holidays['Weekly_Sales'][holidays['Date'].apply(lambda x: x in Labour_day)].mean()\n",
    "Thanksgiving_mean = holidays['Weekly_Sales'][holidays['Date'].apply(lambda x: x in ThanksGiving)].mean()\n",
    "Christmas_mean = holidays['Weekly_Sales'][holidays['Date'].apply(lambda x: x in Christmas)].mean()\n",
    "Non_holiday_mean = data[data['Holiday_Flag'] == 0]['Weekly_Sales'].mean()\n",
    "\n",
    "print('Super bowl mean: {}\\nLabour Day mean: {}\\nThanksGivning mean: {}\\nChristmas mean: {}\\nNon holiday mean:{}'.format(Super_bowl_mean,Labour_day_mean,\n",
    "                                                                                                                         Thanksgiving_mean, Christmas_mean,\n",
    "                                                                                                                        Non_holiday_mean))"
   ]
  },
  {
   "cell_type": "code",
   "execution_count": 203,
   "id": "75f2b584",
   "metadata": {},
   "outputs": [
    {
     "name": "stdout",
     "output_type": "stream",
     "text": [
      "Super Bowl has higher sales than non holiday days.\n",
      "\n",
      "Labour Day has higher sales than non holiday days.\n",
      "\n",
      "Thanksgiving has higher sales than non holiday days.\n",
      "\n"
     ]
    }
   ],
   "source": [
    "holiday_means = {\n",
    "    'Super Bowl' : Super_bowl_mean,\n",
    "    'Labour Day' : Labour_day_mean,\n",
    "    'Thanksgiving' : Thanksgiving_mean,\n",
    "    'Christmas' : Christmas_mean\n",
    "}\n",
    "\n",
    "for k, v in holiday_means.items():\n",
    "    if v > Non_holiday_mean:\n",
    "        print('{} has higher sales than non holiday days.\\n'.format(k))"
   ]
  },
  {
   "cell_type": "markdown",
   "id": "c19c844e",
   "metadata": {},
   "source": [
    "## Task 5"
   ]
  },
  {
   "cell_type": "code",
   "execution_count": 204,
   "id": "31a6348e",
   "metadata": {},
   "outputs": [
    {
     "data": {
      "text/html": [
       "<div>\n",
       "<style scoped>\n",
       "    .dataframe tbody tr th:only-of-type {\n",
       "        vertical-align: middle;\n",
       "    }\n",
       "\n",
       "    .dataframe tbody tr th {\n",
       "        vertical-align: top;\n",
       "    }\n",
       "\n",
       "    .dataframe thead th {\n",
       "        text-align: right;\n",
       "    }\n",
       "</style>\n",
       "<table border=\"1\" class=\"dataframe\">\n",
       "  <thead>\n",
       "    <tr style=\"text-align: right;\">\n",
       "      <th></th>\n",
       "      <th>Store</th>\n",
       "      <th>Weekly_Sales</th>\n",
       "      <th>Holiday_Flag</th>\n",
       "      <th>Temperature</th>\n",
       "      <th>Fuel_Price</th>\n",
       "      <th>CPI</th>\n",
       "      <th>Unemployment</th>\n",
       "    </tr>\n",
       "    <tr>\n",
       "      <th>Date</th>\n",
       "      <th></th>\n",
       "      <th></th>\n",
       "      <th></th>\n",
       "      <th></th>\n",
       "      <th></th>\n",
       "      <th></th>\n",
       "      <th></th>\n",
       "    </tr>\n",
       "  </thead>\n",
       "  <tbody>\n",
       "    <tr>\n",
       "      <th>2010-01-31</th>\n",
       "      <td>1035</td>\n",
       "      <td>4.223988e+07</td>\n",
       "      <td>0</td>\n",
       "      <td>3144.06</td>\n",
       "      <td>123.045</td>\n",
       "      <td>7575.961790</td>\n",
       "      <td>381.388</td>\n",
       "    </tr>\n",
       "    <tr>\n",
       "      <th>2010-02-28</th>\n",
       "      <td>4140</td>\n",
       "      <td>1.915869e+08</td>\n",
       "      <td>0</td>\n",
       "      <td>9324.79</td>\n",
       "      <td>493.958</td>\n",
       "      <td>30219.861597</td>\n",
       "      <td>1537.421</td>\n",
       "    </tr>\n",
       "    <tr>\n",
       "      <th>2010-03-31</th>\n",
       "      <td>4140</td>\n",
       "      <td>1.862262e+08</td>\n",
       "      <td>0</td>\n",
       "      <td>9740.74</td>\n",
       "      <td>507.286</td>\n",
       "      <td>30262.322871</td>\n",
       "      <td>1536.412</td>\n",
       "    </tr>\n",
       "    <tr>\n",
       "      <th>2010-04-30</th>\n",
       "      <td>4140</td>\n",
       "      <td>1.838118e+08</td>\n",
       "      <td>0</td>\n",
       "      <td>11086.93</td>\n",
       "      <td>516.198</td>\n",
       "      <td>30186.006415</td>\n",
       "      <td>1529.588</td>\n",
       "    </tr>\n",
       "    <tr>\n",
       "      <th>2010-05-31</th>\n",
       "      <td>6210</td>\n",
       "      <td>2.806119e+08</td>\n",
       "      <td>0</td>\n",
       "      <td>14713.65</td>\n",
       "      <td>766.327</td>\n",
       "      <td>45328.082817</td>\n",
       "      <td>2304.317</td>\n",
       "    </tr>\n",
       "  </tbody>\n",
       "</table>\n",
       "</div>"
      ],
      "text/plain": [
       "            Store  Weekly_Sales  Holiday_Flag  Temperature  Fuel_Price  \\\n",
       "Date                                                                     \n",
       "2010-01-31   1035  4.223988e+07             0      3144.06     123.045   \n",
       "2010-02-28   4140  1.915869e+08             0      9324.79     493.958   \n",
       "2010-03-31   4140  1.862262e+08             0      9740.74     507.286   \n",
       "2010-04-30   4140  1.838118e+08             0     11086.93     516.198   \n",
       "2010-05-31   6210  2.806119e+08             0     14713.65     766.327   \n",
       "\n",
       "                     CPI  Unemployment  \n",
       "Date                                    \n",
       "2010-01-31   7575.961790       381.388  \n",
       "2010-02-28  30219.861597      1537.421  \n",
       "2010-03-31  30262.322871      1536.412  \n",
       "2010-04-30  30186.006415      1529.588  \n",
       "2010-05-31  45328.082817      2304.317  "
      ]
     },
     "execution_count": 204,
     "metadata": {},
     "output_type": "execute_result"
    }
   ],
   "source": [
    "month = data.groupby(pd.Grouper(key='Date', freq='M')).sum()\n",
    "month.head()"
   ]
  },
  {
   "cell_type": "code",
   "execution_count": 205,
   "id": "d36044f6",
   "metadata": {},
   "outputs": [
    {
     "data": {
      "text/plain": [
       "Text(0.5, 1.0, 'Monthly Sales')"
      ]
     },
     "execution_count": 205,
     "metadata": {},
     "output_type": "execute_result"
    },
    {
     "data": {
      "image/png": "[encoded data removed]",
      "text/plain": [
       "<Figure size 720x720 with 1 Axes>"
      ]
     },
     "metadata": {},
     "output_type": "display_data"
    }
   ],
   "source": [
    "plt.figure(figsize=(10,10))\n",
    "sns.lineplot(x=month.index, y=month['Weekly_Sales'])\n",
    "plt.title('Monthly Sales')\n"
   ]
  },
  {
   "cell_type": "markdown",
   "id": "ec79ef7e",
   "metadata": {},
   "source": [
    "1) The highest monthly sales occured in january 2011.\n",
    "\n",
    "2) I have a doubt that sales are following a pattern and are going down around the month number 6-7, we will test these hypothesis further."
   ]
  },
  {
   "cell_type": "code",
   "execution_count": 206,
   "id": "8bba10df",
   "metadata": {},
   "outputs": [
    {
     "data": {
      "text/html": [
       "<div>\n",
       "<style scoped>\n",
       "    .dataframe tbody tr th:only-of-type {\n",
       "        vertical-align: middle;\n",
       "    }\n",
       "\n",
       "    .dataframe tbody tr th {\n",
       "        vertical-align: top;\n",
       "    }\n",
       "\n",
       "    .dataframe thead th {\n",
       "        text-align: right;\n",
       "    }\n",
       "</style>\n",
       "<table border=\"1\" class=\"dataframe\">\n",
       "  <thead>\n",
       "    <tr style=\"text-align: right;\">\n",
       "      <th></th>\n",
       "      <th>Store</th>\n",
       "      <th>Date</th>\n",
       "      <th>Weekly_Sales</th>\n",
       "      <th>Holiday_Flag</th>\n",
       "      <th>Temperature</th>\n",
       "      <th>Fuel_Price</th>\n",
       "      <th>CPI</th>\n",
       "      <th>Unemployment</th>\n",
       "      <th>month</th>\n",
       "    </tr>\n",
       "  </thead>\n",
       "  <tbody>\n",
       "    <tr>\n",
       "      <th>0</th>\n",
       "      <td>1</td>\n",
       "      <td>2010-05-02</td>\n",
       "      <td>1643690.90</td>\n",
       "      <td>0</td>\n",
       "      <td>42.31</td>\n",
       "      <td>2.572</td>\n",
       "      <td>211.096358</td>\n",
       "      <td>8.106</td>\n",
       "      <td>5</td>\n",
       "    </tr>\n",
       "    <tr>\n",
       "      <th>1</th>\n",
       "      <td>1</td>\n",
       "      <td>2010-12-02</td>\n",
       "      <td>1641957.44</td>\n",
       "      <td>1</td>\n",
       "      <td>38.51</td>\n",
       "      <td>2.548</td>\n",
       "      <td>211.242170</td>\n",
       "      <td>8.106</td>\n",
       "      <td>12</td>\n",
       "    </tr>\n",
       "    <tr>\n",
       "      <th>2</th>\n",
       "      <td>1</td>\n",
       "      <td>2010-02-19</td>\n",
       "      <td>1611968.17</td>\n",
       "      <td>0</td>\n",
       "      <td>39.93</td>\n",
       "      <td>2.514</td>\n",
       "      <td>211.289143</td>\n",
       "      <td>8.106</td>\n",
       "      <td>2</td>\n",
       "    </tr>\n",
       "    <tr>\n",
       "      <th>3</th>\n",
       "      <td>1</td>\n",
       "      <td>2010-02-26</td>\n",
       "      <td>1409727.59</td>\n",
       "      <td>0</td>\n",
       "      <td>46.63</td>\n",
       "      <td>2.561</td>\n",
       "      <td>211.319643</td>\n",
       "      <td>8.106</td>\n",
       "      <td>2</td>\n",
       "    </tr>\n",
       "    <tr>\n",
       "      <th>4</th>\n",
       "      <td>1</td>\n",
       "      <td>2010-05-03</td>\n",
       "      <td>1554806.68</td>\n",
       "      <td>0</td>\n",
       "      <td>46.50</td>\n",
       "      <td>2.625</td>\n",
       "      <td>211.350143</td>\n",
       "      <td>8.106</td>\n",
       "      <td>5</td>\n",
       "    </tr>\n",
       "  </tbody>\n",
       "</table>\n",
       "</div>"
      ],
      "text/plain": [
       "   Store       Date  Weekly_Sales  Holiday_Flag  Temperature  Fuel_Price  \\\n",
       "0      1 2010-05-02    1643690.90             0        42.31       2.572   \n",
       "1      1 2010-12-02    1641957.44             1        38.51       2.548   \n",
       "2      1 2010-02-19    1611968.17             0        39.93       2.514   \n",
       "3      1 2010-02-26    1409727.59             0        46.63       2.561   \n",
       "4      1 2010-05-03    1554806.68             0        46.50       2.625   \n",
       "\n",
       "          CPI  Unemployment  month  \n",
       "0  211.096358         8.106      5  \n",
       "1  211.242170         8.106     12  \n",
       "2  211.289143         8.106      2  \n",
       "3  211.319643         8.106      2  \n",
       "4  211.350143         8.106      5  "
      ]
     },
     "execution_count": 206,
     "metadata": {},
     "output_type": "execute_result"
    }
   ],
   "source": [
    "data['month'] = data['Date'].apply(lambda x: x.month)\n",
    "data.head()"
   ]
  },
  {
   "cell_type": "code",
   "execution_count": 207,
   "id": "a13c276a",
   "metadata": {},
   "outputs": [
    {
     "data": {
      "text/plain": [
       "<AxesSubplot:xlabel='month'>"
      ]
     },
     "execution_count": 207,
     "metadata": {},
     "output_type": "execute_result"
    },
    {
     "data": {
      "image/png": "[encoded data removed]",
      "text/plain": [
       "<Figure size 432x288 with 1 Axes>"
      ]
     },
     "metadata": {},
     "output_type": "display_data"
    }
   ],
   "source": [
    "(data.groupby('month').Weekly_Sales.sum()).plot()"
   ]
  },
  {
   "cell_type": "markdown",
   "id": "61a69bea",
   "metadata": {},
   "source": [
    "1) Our observation was somewhat true, sales go down near the 6th month but not by much.\n",
    "\n",
    "2) November records the lowest Sales overall.\n",
    "\n",
    "3) April has the highest Sales."
   ]
  },
  {
   "cell_type": "code",
   "execution_count": 208,
   "id": "740d4b81",
   "metadata": {},
   "outputs": [
    {
     "data": {
      "text/html": [
       "<div>\n",
       "<style scoped>\n",
       "    .dataframe tbody tr th:only-of-type {\n",
       "        vertical-align: middle;\n",
       "    }\n",
       "\n",
       "    .dataframe tbody tr th {\n",
       "        vertical-align: top;\n",
       "    }\n",
       "\n",
       "    .dataframe thead th {\n",
       "        text-align: right;\n",
       "    }\n",
       "</style>\n",
       "<table border=\"1\" class=\"dataframe\">\n",
       "  <thead>\n",
       "    <tr style=\"text-align: right;\">\n",
       "      <th></th>\n",
       "      <th>Store</th>\n",
       "      <th>Weekly_Sales</th>\n",
       "      <th>Holiday_Flag</th>\n",
       "      <th>Temperature</th>\n",
       "      <th>Fuel_Price</th>\n",
       "      <th>CPI</th>\n",
       "      <th>Unemployment</th>\n",
       "      <th>month</th>\n",
       "    </tr>\n",
       "    <tr>\n",
       "      <th>Date</th>\n",
       "      <th></th>\n",
       "      <th></th>\n",
       "      <th></th>\n",
       "      <th></th>\n",
       "      <th></th>\n",
       "      <th></th>\n",
       "      <th></th>\n",
       "      <th></th>\n",
       "    </tr>\n",
       "  </thead>\n",
       "  <tbody>\n",
       "    <tr>\n",
       "      <th>2010-01-31</th>\n",
       "      <td>1035</td>\n",
       "      <td>4.223988e+07</td>\n",
       "      <td>0</td>\n",
       "      <td>3144.06</td>\n",
       "      <td>123.045</td>\n",
       "      <td>7575.961790</td>\n",
       "      <td>381.388</td>\n",
       "      <td>45</td>\n",
       "    </tr>\n",
       "    <tr>\n",
       "      <th>2010-07-31</th>\n",
       "      <td>25875</td>\n",
       "      <td>1.168939e+09</td>\n",
       "      <td>0</td>\n",
       "      <td>69038.76</td>\n",
       "      <td>3163.802</td>\n",
       "      <td>188910.091258</td>\n",
       "      <td>9572.073</td>\n",
       "      <td>5040</td>\n",
       "    </tr>\n",
       "    <tr>\n",
       "      <th>2011-01-31</th>\n",
       "      <td>27945</td>\n",
       "      <td>1.289673e+09</td>\n",
       "      <td>180</td>\n",
       "      <td>68333.54</td>\n",
       "      <td>3561.511</td>\n",
       "      <td>204805.873519</td>\n",
       "      <td>10241.257</td>\n",
       "      <td>10260</td>\n",
       "    </tr>\n",
       "    <tr>\n",
       "      <th>2011-07-31</th>\n",
       "      <td>25875</td>\n",
       "      <td>1.150555e+09</td>\n",
       "      <td>0</td>\n",
       "      <td>68591.32</td>\n",
       "      <td>4090.563</td>\n",
       "      <td>192568.764647</td>\n",
       "      <td>9154.793</td>\n",
       "      <td>5130</td>\n",
       "    </tr>\n",
       "    <tr>\n",
       "      <th>2012-01-31</th>\n",
       "      <td>26910</td>\n",
       "      <td>1.257900e+09</td>\n",
       "      <td>180</td>\n",
       "      <td>67437.09</td>\n",
       "      <td>4121.914</td>\n",
       "      <td>202091.223320</td>\n",
       "      <td>9254.220</td>\n",
       "      <td>10080</td>\n",
       "    </tr>\n",
       "  </tbody>\n",
       "</table>\n",
       "</div>"
      ],
      "text/plain": [
       "            Store  Weekly_Sales  Holiday_Flag  Temperature  Fuel_Price  \\\n",
       "Date                                                                     \n",
       "2010-01-31   1035  4.223988e+07             0      3144.06     123.045   \n",
       "2010-07-31  25875  1.168939e+09             0     69038.76    3163.802   \n",
       "2011-01-31  27945  1.289673e+09           180     68333.54    3561.511   \n",
       "2011-07-31  25875  1.150555e+09             0     68591.32    4090.563   \n",
       "2012-01-31  26910  1.257900e+09           180     67437.09    4121.914   \n",
       "\n",
       "                      CPI  Unemployment  month  \n",
       "Date                                            \n",
       "2010-01-31    7575.961790       381.388     45  \n",
       "2010-07-31  188910.091258      9572.073   5040  \n",
       "2011-01-31  204805.873519     10241.257  10260  \n",
       "2011-07-31  192568.764647      9154.793   5130  \n",
       "2012-01-31  202091.223320      9254.220  10080  "
      ]
     },
     "execution_count": 208,
     "metadata": {},
     "output_type": "execute_result"
    }
   ],
   "source": [
    "semester = data.groupby(pd.Grouper(key='Date', freq='6M')).sum()\n",
    "semester.head()"
   ]
  },
  {
   "cell_type": "code",
   "execution_count": 209,
   "id": "753d6177",
   "metadata": {},
   "outputs": [
    {
     "data": {
      "text/plain": [
       "Text(0.5, 1.0, 'Semester wise Sales')"
      ]
     },
     "execution_count": 209,
     "metadata": {},
     "output_type": "execute_result"
    },
    {
     "data": {
      "image/png": "[encoded data removed]",
      "text/plain": [
       "<Figure size 720x720 with 1 Axes>"
      ]
     },
     "metadata": {},
     "output_type": "display_data"
    }
   ],
   "source": [
    "plt.figure(figsize=(10,10))\n",
    "sns.lineplot(x=semester.index, y=semester['Weekly_Sales'])\n",
    "plt.title('Semester wise Sales')"
   ]
  },
  {
   "cell_type": "markdown",
   "id": "eb4b5894",
   "metadata": {},
   "source": [
    "1) Sales are lowest in first semester of 2010 and 2013.\n",
    "\n",
    "2) Sales are at their peak on first semester of 2011 and 2012."
   ]
  },
  {
   "cell_type": "markdown",
   "id": "81089937",
   "metadata": {},
   "source": [
    "## Task 6"
   ]
  },
  {
   "cell_type": "code",
   "execution_count": 210,
   "id": "5337a2e7",
   "metadata": {},
   "outputs": [],
   "source": [
    "new_data = data.copy()\n",
    "new_data = new_data.sort_values(by='Date').reset_index()"
   ]
  },
  {
   "cell_type": "code",
   "execution_count": 211,
   "id": "2cdbe942",
   "metadata": {},
   "outputs": [
    {
     "data": {
      "text/html": [
       "<div>\n",
       "<style scoped>\n",
       "    .dataframe tbody tr th:only-of-type {\n",
       "        vertical-align: middle;\n",
       "    }\n",
       "\n",
       "    .dataframe tbody tr th {\n",
       "        vertical-align: top;\n",
       "    }\n",
       "\n",
       "    .dataframe thead th {\n",
       "        text-align: right;\n",
       "    }\n",
       "</style>\n",
       "<table border=\"1\" class=\"dataframe\">\n",
       "  <thead>\n",
       "    <tr style=\"text-align: right;\">\n",
       "      <th></th>\n",
       "      <th>index</th>\n",
       "      <th>Store</th>\n",
       "      <th>Date</th>\n",
       "      <th>Weekly_Sales</th>\n",
       "      <th>Holiday_Flag</th>\n",
       "      <th>Temperature</th>\n",
       "      <th>Fuel_Price</th>\n",
       "      <th>CPI</th>\n",
       "      <th>Unemployment</th>\n",
       "      <th>month</th>\n",
       "      <th>Encoded_date</th>\n",
       "    </tr>\n",
       "  </thead>\n",
       "  <tbody>\n",
       "    <tr>\n",
       "      <th>0</th>\n",
       "      <td>606</td>\n",
       "      <td>5</td>\n",
       "      <td>2010-01-10</td>\n",
       "      <td>283178.12</td>\n",
       "      <td>0</td>\n",
       "      <td>71.10</td>\n",
       "      <td>2.603</td>\n",
       "      <td>212.226946</td>\n",
       "      <td>6.768</td>\n",
       "      <td>1</td>\n",
       "      <td>1</td>\n",
       "    </tr>\n",
       "    <tr>\n",
       "      <th>1</th>\n",
       "      <td>2036</td>\n",
       "      <td>15</td>\n",
       "      <td>2010-01-10</td>\n",
       "      <td>566945.95</td>\n",
       "      <td>0</td>\n",
       "      <td>59.69</td>\n",
       "      <td>2.840</td>\n",
       "      <td>132.756800</td>\n",
       "      <td>8.067</td>\n",
       "      <td>1</td>\n",
       "      <td>1</td>\n",
       "    </tr>\n",
       "    <tr>\n",
       "      <th>2</th>\n",
       "      <td>5897</td>\n",
       "      <td>42</td>\n",
       "      <td>2010-01-10</td>\n",
       "      <td>481523.93</td>\n",
       "      <td>0</td>\n",
       "      <td>86.01</td>\n",
       "      <td>3.001</td>\n",
       "      <td>126.234600</td>\n",
       "      <td>9.003</td>\n",
       "      <td>1</td>\n",
       "      <td>1</td>\n",
       "    </tr>\n",
       "    <tr>\n",
       "      <th>3</th>\n",
       "      <td>4610</td>\n",
       "      <td>33</td>\n",
       "      <td>2010-01-10</td>\n",
       "      <td>224294.39</td>\n",
       "      <td>0</td>\n",
       "      <td>91.45</td>\n",
       "      <td>3.001</td>\n",
       "      <td>126.234600</td>\n",
       "      <td>9.265</td>\n",
       "      <td>1</td>\n",
       "      <td>1</td>\n",
       "    </tr>\n",
       "    <tr>\n",
       "      <th>4</th>\n",
       "      <td>5039</td>\n",
       "      <td>36</td>\n",
       "      <td>2010-01-10</td>\n",
       "      <td>422169.47</td>\n",
       "      <td>0</td>\n",
       "      <td>74.66</td>\n",
       "      <td>2.567</td>\n",
       "      <td>210.440443</td>\n",
       "      <td>8.476</td>\n",
       "      <td>1</td>\n",
       "      <td>1</td>\n",
       "    </tr>\n",
       "  </tbody>\n",
       "</table>\n",
       "</div>"
      ],
      "text/plain": [
       "   index  Store       Date  Weekly_Sales  Holiday_Flag  Temperature  \\\n",
       "0    606      5 2010-01-10     283178.12             0        71.10   \n",
       "1   2036     15 2010-01-10     566945.95             0        59.69   \n",
       "2   5897     42 2010-01-10     481523.93             0        86.01   \n",
       "3   4610     33 2010-01-10     224294.39             0        91.45   \n",
       "4   5039     36 2010-01-10     422169.47             0        74.66   \n",
       "\n",
       "   Fuel_Price         CPI  Unemployment  month  Encoded_date  \n",
       "0       2.603  212.226946         6.768      1             1  \n",
       "1       2.840  132.756800         8.067      1             1  \n",
       "2       3.001  126.234600         9.003      1             1  \n",
       "3       3.001  126.234600         9.265      1             1  \n",
       "4       2.567  210.440443         8.476      1             1  "
      ]
     },
     "execution_count": 211,
     "metadata": {},
     "output_type": "execute_result"
    }
   ],
   "source": [
    "from sklearn.preprocessing import OrdinalEncoder\n",
    "enc = OrdinalEncoder()\n",
    "new_data['Encoded_date'] = enc.fit_transform(new_data[['Date']])\n",
    "new_data['Encoded_date'] += 1\n",
    "new_data['Encoded_date'] = new_data['Encoded_date'].astype(int)\n",
    "new_data.head()"
   ]
  },
  {
   "cell_type": "code",
   "execution_count": 212,
   "id": "ff9949f9",
   "metadata": {},
   "outputs": [],
   "source": [
    "from sklearn.linear_model import LinearRegression\n",
    "from sklearn.model_selection import GridSearchCV\n",
    "from sklearn.metrics import mean_absolute_error\n",
    "from sklearn.preprocessing import StandardScaler\n",
    "from sklearn.model_selection import train_test_split"
   ]
  },
  {
   "cell_type": "code",
   "execution_count": 213,
   "id": "79b814b6",
   "metadata": {},
   "outputs": [],
   "source": [
    "X = new_data.drop(['index', 'month', 'Weekly_Sales', 'Date'], axis=1)\n",
    "y = new_data['Weekly_Sales']"
   ]
  },
  {
   "cell_type": "code",
   "execution_count": 214,
   "id": "3c4b4862",
   "metadata": {},
   "outputs": [],
   "source": [
    "X_train, X_test, y_train, y_test = train_test_split(X, y, test_size= 0.2, random_state=42)"
   ]
  },
  {
   "cell_type": "code",
   "execution_count": 215,
   "id": "092d357c",
   "metadata": {},
   "outputs": [],
   "source": [
    "scaler = StandardScaler()\n",
    "scaler.fit(X_train)\n",
    "X_train = scaler.transform(X_train)\n",
    "X_test = scaler.transform(X_test)"
   ]
  },
  {
   "cell_type": "code",
   "execution_count": 216,
   "id": "92f76a64",
   "metadata": {},
   "outputs": [
    {
     "data": {
      "text/plain": [
       "0.14226091387264395"
      ]
     },
     "execution_count": 216,
     "metadata": {},
     "output_type": "execute_result"
    }
   ],
   "source": [
    "lr = LinearRegression()\n",
    "lr.fit(X_train, y_train)\n",
    "lr.score(X_train, y_train)"
   ]
  },
  {
   "cell_type": "code",
   "execution_count": 217,
   "id": "871eec0e",
   "metadata": {},
   "outputs": [
    {
     "data": {
      "text/plain": [
       "419386.1431796042"
      ]
     },
     "execution_count": 217,
     "metadata": {},
     "output_type": "execute_result"
    }
   ],
   "source": [
    "y_pred = lr.predict(X_test)\n",
    "mean_absolute_error(y_pred, y_test)"
   ]
  },
  {
   "cell_type": "code",
   "execution_count": 218,
   "id": "a3a4ae13",
   "metadata": {},
   "outputs": [
    {
     "data": {
      "text/plain": [
       "0.1370803802691467"
      ]
     },
     "execution_count": 218,
     "metadata": {},
     "output_type": "execute_result"
    }
   ],
   "source": [
    "lr.score(X_test, y_test)"
   ]
  },
  {
   "cell_type": "markdown",
   "id": "d1c8055a",
   "metadata": {},
   "source": [
    "R square of our default model is low and the mean absolute error is high, the features we have are providing minimal predictive power. \n",
    "\n",
    "Moreover the solution is not linear as we saw earlier in the Visuals. we may need a more complex algorithm to predict the sales properly."
   ]
  },
  {
   "cell_type": "code",
   "execution_count": 219,
   "id": "081c0966",
   "metadata": {},
   "outputs": [
    {
     "data": {
      "text/plain": [
       "(array([-200676.005924  ,   21606.89651367,  -23857.86787763,\n",
       "           7985.35059448,  -88449.04818185,  -44860.07773148,\n",
       "          -5573.05849357]),\n",
       " Index(['Store', 'Holiday_Flag', 'Temperature', 'Fuel_Price', 'CPI',\n",
       "        'Unemployment', 'Encoded_date'],\n",
       "       dtype='object'))"
      ]
     },
     "execution_count": 219,
     "metadata": {},
     "output_type": "execute_result"
    }
   ],
   "source": [
    "lr.coef_ , X.columns"
   ]
  },
  {
   "cell_type": "markdown",
   "id": "394e337d",
   "metadata": {},
   "source": [
    "We can see that CPI and Unemployment have significant negative impact, while fuel_price have very small positive impact on Sales. "
   ]
  },
  {
   "cell_type": "markdown",
   "id": "e463f4a1",
   "metadata": {},
   "source": [
    "## Task 7"
   ]
  },
  {
   "cell_type": "code",
   "execution_count": 220,
   "id": "ea432d91",
   "metadata": {},
   "outputs": [
    {
     "data": {
      "text/html": [
       "<div>\n",
       "<style scoped>\n",
       "    .dataframe tbody tr th:only-of-type {\n",
       "        vertical-align: middle;\n",
       "    }\n",
       "\n",
       "    .dataframe tbody tr th {\n",
       "        vertical-align: top;\n",
       "    }\n",
       "\n",
       "    .dataframe thead th {\n",
       "        text-align: right;\n",
       "    }\n",
       "</style>\n",
       "<table border=\"1\" class=\"dataframe\">\n",
       "  <thead>\n",
       "    <tr style=\"text-align: right;\">\n",
       "      <th></th>\n",
       "      <th>index</th>\n",
       "      <th>Store</th>\n",
       "      <th>Date</th>\n",
       "      <th>Weekly_Sales</th>\n",
       "      <th>Holiday_Flag</th>\n",
       "      <th>Temperature</th>\n",
       "      <th>Fuel_Price</th>\n",
       "      <th>CPI</th>\n",
       "      <th>Unemployment</th>\n",
       "      <th>month</th>\n",
       "      <th>Encoded_date</th>\n",
       "      <th>Day</th>\n",
       "    </tr>\n",
       "  </thead>\n",
       "  <tbody>\n",
       "    <tr>\n",
       "      <th>0</th>\n",
       "      <td>606</td>\n",
       "      <td>5</td>\n",
       "      <td>2010-01-10</td>\n",
       "      <td>283178.12</td>\n",
       "      <td>0</td>\n",
       "      <td>71.10</td>\n",
       "      <td>2.603</td>\n",
       "      <td>212.226946</td>\n",
       "      <td>6.768</td>\n",
       "      <td>1</td>\n",
       "      <td>1</td>\n",
       "      <td>10</td>\n",
       "    </tr>\n",
       "    <tr>\n",
       "      <th>1</th>\n",
       "      <td>2036</td>\n",
       "      <td>15</td>\n",
       "      <td>2010-01-10</td>\n",
       "      <td>566945.95</td>\n",
       "      <td>0</td>\n",
       "      <td>59.69</td>\n",
       "      <td>2.840</td>\n",
       "      <td>132.756800</td>\n",
       "      <td>8.067</td>\n",
       "      <td>1</td>\n",
       "      <td>1</td>\n",
       "      <td>10</td>\n",
       "    </tr>\n",
       "    <tr>\n",
       "      <th>2</th>\n",
       "      <td>5897</td>\n",
       "      <td>42</td>\n",
       "      <td>2010-01-10</td>\n",
       "      <td>481523.93</td>\n",
       "      <td>0</td>\n",
       "      <td>86.01</td>\n",
       "      <td>3.001</td>\n",
       "      <td>126.234600</td>\n",
       "      <td>9.003</td>\n",
       "      <td>1</td>\n",
       "      <td>1</td>\n",
       "      <td>10</td>\n",
       "    </tr>\n",
       "    <tr>\n",
       "      <th>3</th>\n",
       "      <td>4610</td>\n",
       "      <td>33</td>\n",
       "      <td>2010-01-10</td>\n",
       "      <td>224294.39</td>\n",
       "      <td>0</td>\n",
       "      <td>91.45</td>\n",
       "      <td>3.001</td>\n",
       "      <td>126.234600</td>\n",
       "      <td>9.265</td>\n",
       "      <td>1</td>\n",
       "      <td>1</td>\n",
       "      <td>10</td>\n",
       "    </tr>\n",
       "    <tr>\n",
       "      <th>4</th>\n",
       "      <td>5039</td>\n",
       "      <td>36</td>\n",
       "      <td>2010-01-10</td>\n",
       "      <td>422169.47</td>\n",
       "      <td>0</td>\n",
       "      <td>74.66</td>\n",
       "      <td>2.567</td>\n",
       "      <td>210.440443</td>\n",
       "      <td>8.476</td>\n",
       "      <td>1</td>\n",
       "      <td>1</td>\n",
       "      <td>10</td>\n",
       "    </tr>\n",
       "  </tbody>\n",
       "</table>\n",
       "</div>"
      ],
      "text/plain": [
       "   index  Store       Date  Weekly_Sales  Holiday_Flag  Temperature  \\\n",
       "0    606      5 2010-01-10     283178.12             0        71.10   \n",
       "1   2036     15 2010-01-10     566945.95             0        59.69   \n",
       "2   5897     42 2010-01-10     481523.93             0        86.01   \n",
       "3   4610     33 2010-01-10     224294.39             0        91.45   \n",
       "4   5039     36 2010-01-10     422169.47             0        74.66   \n",
       "\n",
       "   Fuel_Price         CPI  Unemployment  month  Encoded_date  Day  \n",
       "0       2.603  212.226946         6.768      1             1   10  \n",
       "1       2.840  132.756800         8.067      1             1   10  \n",
       "2       3.001  126.234600         9.003      1             1   10  \n",
       "3       3.001  126.234600         9.265      1             1   10  \n",
       "4       2.567  210.440443         8.476      1             1   10  "
      ]
     },
     "execution_count": 220,
     "metadata": {},
     "output_type": "execute_result"
    }
   ],
   "source": [
    "new_data['Day'] = new_data['Date'].apply(lambda x: x.day)\n",
    "new_data.head()"
   ]
  }
 ],
 "metadata": {
  "kernelspec": {
   "display_name": "Python 3",
   "language": "python",
   "name": "python3"
  },
  "language_info": {
   "codemirror_mode": {
    "name": "ipython",
    "version": 3
   },
   "file_extension": ".py",
   "mimetype": "text/x-python",
   "name": "python",
   "nbconvert_exporter": "python",
   "pygments_lexer": "ipython3",
   "version": "3.8.10"
  }
 },
 "nbformat": 4,
 "nbformat_minor": 5
}
